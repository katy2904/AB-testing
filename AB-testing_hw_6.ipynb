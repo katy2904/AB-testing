{
 "cells": [
  {
   "cell_type": "code",
   "execution_count": 44,
   "id": "aa8043cf",
   "metadata": {},
   "outputs": [],
   "source": [
    "from statsmodels.stats.power import tt_ind_solve_power, zt_ind_solve_power\n",
    "from statsmodels.stats.proportion import proportion_effectsize\n",
    "from statsmodels.stats.meta_analysis import effectsize_smd\n",
    "from typing import Union\n",
    "import plotly.graph_objects as go\n",
    "from scipy import stats\n",
    "from math import asin\n",
    "import numpy as np\n",
    "import math"
   ]
  },
  {
   "cell_type": "code",
   "execution_count": 45,
   "id": "2d2b7d7c",
   "metadata": {},
   "outputs": [],
   "source": [
    "# Расчёт effect_size для пропорций\n",
    "def calc_proportion_es(prob1: float, prob2: float):\n",
    "    return abs(proportion_effectsize(prob1, prob2))\n",
    "\n",
    "\n",
    "# Расчёт effect_size для непрерывных метрик\n",
    "def calc_continuous_es(mean_control: Union[float, int],\n",
    "                                std_control: Union[float, int],\n",
    "                                mean_test: Union[float, int],\n",
    "                                std_test: Union[float, int]):\n",
    "    return abs(effectsize_smd(mean_control,\n",
    "                             std_control,\n",
    "                             1e4,\n",
    "                             mean_test,\n",
    "                             std_test,\n",
    "                             1e4)[0])"
   ]
  },
  {
   "cell_type": "code",
   "execution_count": 46,
   "id": "ad46ee0f",
   "metadata": {},
   "outputs": [],
   "source": [
    "# Расчёт минимально необходимой выборки * 2(для теста и контроля) для пропорций\n",
    "def calc_sample_size_proportion(effect_size: float,\n",
    "                                alpha: float = .05,\n",
    "                                beta: float = .2,\n",
    "                                ratio: Union[float, int] = 1):\n",
    "    \n",
    "    n = zt_ind_solve_power(effect_size=effect_size,\n",
    "                           alpha=alpha,\n",
    "                           power=(1 - beta),\n",
    "                           ratio=ratio,\n",
    "                  )\n",
    "    return int(n * 2)\n",
    "# Расчёт минимально необходимой выборки * 2(для теста и контроля) для непрерывной метрики\n",
    "def calc_sample_size_continuous(effect_size: float,\n",
    "                                alpha: float = .05,\n",
    "                                beta: float = .2,\n",
    "                                ratio: Union[float, int] = 1):\n",
    "    \n",
    "    n = tt_ind_solve_power(effect_size=effect_size,\n",
    "                           alpha=alpha,\n",
    "                           power=(1 - beta),\n",
    "                           ratio=ratio,\n",
    "                  )\n",
    "    return int(n * 2)"
   ]
  },
  {
   "cell_type": "markdown",
   "id": "1e740fed",
   "metadata": {},
   "source": [
    "# Задание 1\n",
    "Продакт на главной mail.ru решил протестировать в рекомендательной ленте контента вместо карточек со статьями видеоплеер с короткими видео.\n",
    "\n",
    "Нынешний таймспент на юзера в день в среднем равен 25 минут, а стандартная ошибка (SD) равна 156.\n",
    "\n",
    "Мы предполагаем, что в новой версии таймспент на юзера в день изменится на 10%.\n",
    "\n",
    "Средний трафик 20000 человек в день.\n",
    "\n",
    "Посчитайте сколько дней необходимо держать эксперимент при alpha = 5% и beta = 20% ."
   ]
  },
  {
   "cell_type": "code",
   "execution_count": 47,
   "id": "a9cbbef1",
   "metadata": {},
   "outputs": [],
   "source": [
    "# вводим данные\n",
    "tss_control, tss_test = 25, 25 * 1.1 # тестовое значение больше контрольного на 10%\n",
    "std_control, std_test = 156, 156 # т.к. мы не знаем дисперсию тестовой группы, берем ее равной контрольной\n",
    "traffic = 20_000"
   ]
  },
  {
   "cell_type": "code",
   "execution_count": 48,
   "id": "aeb0d0bc",
   "metadata": {},
   "outputs": [
    {
     "data": {
      "text/plain": [
       "0.016025039996486808"
      ]
     },
     "execution_count": 48,
     "metadata": {},
     "output_type": "execute_result"
    }
   ],
   "source": [
    "# рассчитываем effect size\n",
    "es_cont = calc_continuous_es(tss_control, std_control, tss_test, std_test)\n",
    "es_cont"
   ]
  },
  {
   "cell_type": "code",
   "execution_count": 49,
   "id": "47f7c0e6",
   "metadata": {},
   "outputs": [
    {
     "name": "stdout",
     "output_type": "stream",
     "text": [
      "При рассчитанном effect size=0.016025039996486808, принимая во внимание значение alpha = 5% и beta = 20%, получаем необходимое количество наблюдений равное 122257. Учитывая, что средний трафик составляет 20000 человек в день и необходимое количество наблюдений, получаем, что эксперимен должен длиться 7 дней.\n"
     ]
    }
   ],
   "source": [
    "# параметры alpha и beta при расчете количества испытаний в нашем случае можно не указывать, т.к. они стоят по умолчанию\n",
    "\n",
    "print(f\"При рассчитанном effect size={es_cont}, принимая во внимание значение alpha = 5% и beta = 20%, получаем \"\n",
    "      f\"необходимое количество наблюдений равное {calc_sample_size_continuous(es_cont)}.\"\n",
    "      f\" Учитывая, что средний трафик составляет {traffic} человек в день и необходимое количество наблюдений, получаем,\"\n",
    "      f\" что эксперимен должен длиться {math.ceil(calc_sample_size_continuous(es_cont) / traffic)} дней.\")"
   ]
  },
  {
   "cell_type": "markdown",
   "id": "95ec442f",
   "metadata": {},
   "source": [
    "# Задание 2\n",
    "Наша продуктовая команда в ecommerce магазине планирует запустить тест, направленный на ускорение загрузки сайта.\n",
    "\n",
    "Одна из основных метрик bounce rate в GA = 40%.\n",
    "\n",
    "Мы предполагаем, что при оптимизации сайта она изменится минимум на 20%.\n",
    "\n",
    "Средний трафик 4000 человек в день.\n",
    "\n",
    "Посчитайте сколько нам нужно дней держать эксперимент при alpha = 5% и beta = 20%"
   ]
  },
  {
   "cell_type": "markdown",
   "id": "9671612e",
   "metadata": {},
   "source": [
    "Исходя из условия, предположу, что bounce rate должна снизиться минимум на 20%"
   ]
  },
  {
   "cell_type": "code",
   "execution_count": 50,
   "id": "2ce0651f",
   "metadata": {},
   "outputs": [],
   "source": [
    "# считаем effectsize\n",
    "br_control, br_test = 0.4, 0.4 - 0.4 * 0.2\n",
    "traffic = 4_000"
   ]
  },
  {
   "cell_type": "code",
   "execution_count": 51,
   "id": "c579c176",
   "metadata": {},
   "outputs": [
    {
     "data": {
      "text/plain": [
       "0.16690997264630925"
      ]
     },
     "execution_count": 51,
     "metadata": {},
     "output_type": "execute_result"
    }
   ],
   "source": [
    "# считаем effectsize\n",
    "es_prop = calc_proportion_es(br_control, br_test)\n",
    "es_prop"
   ]
  },
  {
   "cell_type": "code",
   "execution_count": 52,
   "id": "4b7f2afe",
   "metadata": {},
   "outputs": [
    {
     "name": "stdout",
     "output_type": "stream",
     "text": [
      "При рассчитанном effect size=0.16690997264630925, принимая во внимание значение alpha = 5% и beta = 20%, получаем необходимое количество наблюдений равное 1126. Учитывая, что средний трафик составляет 4000 человек в день и необходимое количество наблюдений, получаем, что эксперимен должен длиться 1 дней.\n"
     ]
    }
   ],
   "source": [
    "# параметры alpha и beta при расчете количества испытаний в нашем случае можно не указывать, т.к. они стоят по умолчанию\n",
    "\n",
    "print(f\"При рассчитанном effect size={es_prop}, принимая во внимание значение alpha = 5% и beta = 20%, получаем \"\n",
    "      f\"необходимое количество наблюдений равное {calc_sample_size_proportion(es_prop)}.\"\n",
    "      f\" Учитывая, что средний трафик составляет {traffic} человек в день и необходимое количество наблюдений, получаем,\"\n",
    "      f\" что эксперимен должен длиться {math.ceil(calc_sample_size_proportion(es_prop) / traffic)} дней.\")"
   ]
  },
  {
   "cell_type": "markdown",
   "id": "6b505a52",
   "metadata": {},
   "source": [
    "Но если допустить, что bounce rate увеличится минимум на 20%, то результат будет примерно такой же:"
   ]
  },
  {
   "cell_type": "code",
   "execution_count": 53,
   "id": "41e8a519",
   "metadata": {},
   "outputs": [],
   "source": [
    "# считаем effectsize\n",
    "br_control, br_test = 0.4, 0.4 + 0.4 * 0.2\n",
    "traffic = 4_000"
   ]
  },
  {
   "cell_type": "code",
   "execution_count": 54,
   "id": "f3906492",
   "metadata": {},
   "outputs": [
    {
     "data": {
      "text/plain": [
       "0.1613472464363419"
      ]
     },
     "execution_count": 54,
     "metadata": {},
     "output_type": "execute_result"
    }
   ],
   "source": [
    "# считаем effectsize\n",
    "es_prop = calc_proportion_es(br_control, br_test)\n",
    "es_prop"
   ]
  },
  {
   "cell_type": "code",
   "execution_count": 55,
   "id": "d86d9b06",
   "metadata": {},
   "outputs": [
    {
     "name": "stdout",
     "output_type": "stream",
     "text": [
      "При рассчитанном effect size=0.1613472464363419, принимая во внимание значение alpha = 5% и beta = 20%, получаем необходимое количество наблюдений равное 1205. Учитывая, что средний трафик составляет 4000 человек в день и необходимое количество наблюдений, получаем, что эксперимен должен длиться 1 дней.\n"
     ]
    }
   ],
   "source": [
    "# параметры alpha и beta при расчете количества испытаний в нашем случае можно не указывать, т.к. они стоят по умолчанию\n",
    "\n",
    "print(f\"При рассчитанном effect size={es_prop}, принимая во внимание значение alpha = 5% и beta = 20%, получаем \"\n",
    "      f\"необходимое количество наблюдений равное {calc_sample_size_proportion(es_prop)}.\"\n",
    "      f\" Учитывая, что средний трафик составляет {traffic} человек в день и необходимое количество наблюдений, получаем,\"\n",
    "      f\" что эксперимен должен длиться {math.ceil(calc_sample_size_proportion(es_prop) / traffic)} дней.\")"
   ]
  },
  {
   "cell_type": "markdown",
   "id": "205cf884",
   "metadata": {},
   "source": [
    "Увеличение или снижение bounce rate минимум на 20% при прочих равных условиях не влияют на продолжительность теста."
   ]
  }
 ],
 "metadata": {
  "kernelspec": {
   "display_name": "Python 3 (ipykernel)",
   "language": "python",
   "name": "python3"
  },
  "language_info": {
   "codemirror_mode": {
    "name": "ipython",
    "version": 3
   },
   "file_extension": ".py",
   "mimetype": "text/x-python",
   "name": "python",
   "nbconvert_exporter": "python",
   "pygments_lexer": "ipython3",
   "version": "3.9.13"
  }
 },
 "nbformat": 4,
 "nbformat_minor": 5
}
